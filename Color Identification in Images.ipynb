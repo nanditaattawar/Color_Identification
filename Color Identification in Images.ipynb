{
 "cells": [
  {
   "cell_type": "markdown",
   "id": "8bd27ed8",
   "metadata": {},
   "source": [
    "# The Sparks Foundation\n",
    "# Computer vision & IoT\n",
    "### Task 2 : Color Identification in Images\n",
    "### Name: Nandita Attawar\n"
   ]
  },
  {
   "cell_type": "code",
   "execution_count": null,
   "id": "a4b6309b",
   "metadata": {},
   "outputs": [],
   "source": [
    "#Import the necessary packages.\n",
    "import cv2\n",
    "import pandas as pd"
   ]
  },
  {
   "cell_type": "code",
   "execution_count": null,
   "id": "518a6290",
   "metadata": {},
   "outputs": [],
   "source": [
    "img_path = 'image.jpeg' #Image used for Colour Identification.\n",
    "csv_path = 'colors.csv' #The csv file consisting 865 colour."
   ]
  },
  {
   "cell_type": "code",
   "execution_count": null,
   "id": "d8ab65f7",
   "metadata": {},
   "outputs": [],
   "source": [
    "df = pd.read_csv(csv_path) #A pandas Function to read csv file.\n",
    "print(df.head(5))          #Displaying the data saved in csv file."
   ]
  },
  {
   "cell_type": "code",
   "execution_count": null,
   "id": "4ea06468",
   "metadata": {},
   "outputs": [],
   "source": [
    "# Taking colors data as input using Pandas by reading the csv file.\n",
    "index = ['color', 'color_name', 'hex', 'R', 'G', 'B']\n",
    "df = pd.read_csv(csv_path, names=index, header=None)"
   ]
  },
  {
   "cell_type": "code",
   "execution_count": null,
   "id": "d2257e99",
   "metadata": {},
   "outputs": [],
   "source": [
    "print(df.head(5))"
   ]
  },
  {
   "cell_type": "code",
   "execution_count": null,
   "id": "81a1d4e1",
   "metadata": {},
   "outputs": [],
   "source": [
    "print(len(df)) "
   ]
  },
  {
   "cell_type": "code",
   "execution_count": null,
   "id": "2fe81f76",
   "metadata": {},
   "outputs": [],
   "source": [
    "img = cv2.imread(img_path)        #Reading the Image.\n",
    "img = cv2.resize(img, (800,600))  #Resizing the Image.  "
   ]
  },
  {
   "cell_type": "code",
   "execution_count": null,
   "id": "2ddb42fc",
   "metadata": {},
   "outputs": [],
   "source": [
    "# Declaring global variable. (Variable Declaration For Mouse Pointer Movement)\n",
    "clicked = False\n",
    "r = g = b = xpos = ypos = 0"
   ]
  },
  {
   "cell_type": "code",
   "execution_count": null,
   "id": "777a27f0",
   "metadata": {},
   "outputs": [],
   "source": [
    "#Function to calculate minimum distance from all colors and get the most matching color.\n",
    "def get_color_name(R,G,B):\n",
    "    minimum = 1000\n",
    "    for i in range(len(df)):\n",
    "        d = abs(R - int(df.loc[i,'R'])) + abs(G - int(df.loc[i,'G'])) + abs(B - int(df.loc[i,'B']))\n",
    "        if d <= minimum:\n",
    "            minimum = d\n",
    "            cname = df.loc[i, 'color_name']\n",
    "\n",
    "    return cname"
   ]
  },
  {
   "cell_type": "code",
   "execution_count": null,
   "id": "ce07dcac",
   "metadata": {},
   "outputs": [],
   "source": [
    "#Function to get x,y coordinates of mouse double click.\n",
    "def draw_function(event, x, y, flags, params):\n",
    "    if event == cv2.EVENT_LBUTTONDBLCLK:\n",
    "        global b, g, r, xpos, ypos, clicked\n",
    "        clicked = True\n",
    "        xpos = x\n",
    "        ypos = y\n",
    "        b,g,r = img[y,x]\n",
    "        b = int(b)\n",
    "        g = int(g)\n",
    "        r = int(r)"
   ]
  },
  {
   "cell_type": "code",
   "execution_count": null,
   "id": "951bd17a",
   "metadata": {},
   "outputs": [],
   "source": [
    "#Creating window.\n",
    "cv2.namedWindow('image')\n",
    "cv2.setMouseCallback('image', draw_function)"
   ]
  },
  {
   "cell_type": "code",
   "execution_count": null,
   "id": "0b23ce0c",
   "metadata": {},
   "outputs": [],
   "source": [
    "#Updates the color name whenever the double click occurs.\n",
    "while True:\n",
    "    cv2.imshow('image', img)\n",
    "    if clicked:\n",
    "        cv2.rectangle(img, (20,20), (600,60), (b,g,r), -1)\n",
    "        text = get_color_name(r,g,b) + ' R=' + str(r) + ' G=' + str(g) + ' B=' + str(b)\n",
    "        cv2.putText(img, text, (50,50), 2,0.8, (255,255,255),2,cv2.LINE_AA)\n",
    "        if r+g+b >=600:\n",
    "            cv2.putText(img, text, (50,50), 2,0.8, (0,0,0),2,cv2.LINE_AA)\n",
    "        \n",
    "    if cv2.waitKey(20) & 0xFF == 27:\n",
    "        break\n",
    "\n",
    "cv2.destroyAllWindows()"
   ]
  },
  {
   "cell_type": "code",
   "execution_count": null,
   "id": "77dd0749",
   "metadata": {},
   "outputs": [],
   "source": []
  },
  {
   "cell_type": "code",
   "execution_count": null,
   "id": "a2a16573",
   "metadata": {},
   "outputs": [],
   "source": []
  }
 ],
 "metadata": {
  "kernelspec": {
   "display_name": "Python 3 (ipykernel)",
   "language": "python",
   "name": "python3"
  },
  "language_info": {
   "codemirror_mode": {
    "name": "ipython",
    "version": 3
   },
   "file_extension": ".py",
   "mimetype": "text/x-python",
   "name": "python",
   "nbconvert_exporter": "python",
   "pygments_lexer": "ipython3",
   "version": "3.9.7"
  }
 },
 "nbformat": 4,
 "nbformat_minor": 5
}
